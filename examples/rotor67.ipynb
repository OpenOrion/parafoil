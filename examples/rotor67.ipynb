{
 "cells": [
  {
   "cell_type": "code",
   "execution_count": 1,
   "metadata": {},
   "outputs": [
    {
     "name": "stdout",
     "output_type": "stream",
     "text": [
      "Overwriting auto display for cadquery Workplane and Shape\n"
     ]
    },
    {
     "data": {
      "application/vnd.jupyter.widget-view+json": {
       "model_id": "49a9f016551f4df0b5010c310300cb93",
       "version_major": 2,
       "version_minor": 0
      },
      "text/plain": [
       "CadViewerWidget(anchor=None, cad_width=800, glass=False, height=600, pinning=False, theme='light', title=None,…"
      ]
     },
     "metadata": {},
     "output_type": "display_data"
    },
    {
     "data": {
      "text/html": [
       "<div></div>"
      ],
      "text/plain": [
       "<IPython.core.display.HTML object>"
      ]
     },
     "metadata": {},
     "output_type": "display_data"
    },
    {
     "data": {
      "text/plain": [
       "<cad_viewer_widget.widget.CadViewer at 0x177993190>"
      ]
     },
     "execution_count": 1,
     "metadata": {},
     "output_type": "execute_result"
    }
   ],
   "source": [
    "from parafoil import CamberThicknessAirfoil\n",
    "from parafoil.passages import TurboRowPassage, TurboStationPassage\n",
    "\n",
    "\n",
    "mean_rotor_airfoil = CamberThicknessAirfoil(\n",
    "    inlet_angle=-60,\n",
    "    outlet_angle=-51,\n",
    "    upper_thick_prop=[0.015, 0.05, 0.05, 0.015],\n",
    "    lower_thick_prop=[0.015, 0.05, 0.05, 0.015],\n",
    "    leading_prop=0.5,\n",
    "    trailing_prop=0.5,\n",
    "    chord_length=0.018,\n",
    "    angle_units=\"deg\"\n",
    ")\n",
    "mean_rotor_pasage = TurboStationPassage(\n",
    "    airfoil=mean_rotor_airfoil,\n",
    "    spacing_to_chord=1.0,\n",
    "    leading_edge_gap_to_chord=4,\n",
    "    trailing_edge_gap_to_chord=4,\n",
    "    type=\"camber\",\n",
    ")\n",
    "hub_rotor_airfoil = mean_rotor_airfoil.clone(inlet_angle=-50, outlet_angle=-25)\n",
    "tip_rotor_airfoil = mean_rotor_airfoil.clone(inlet_angle=-67, outlet_angle=-63)\n",
    "\n",
    "hub_rotor_passage = mean_rotor_pasage.clone(airfoil=hub_rotor_airfoil)\n",
    "tip_rotor_passage = mean_rotor_pasage.clone(airfoil=tip_rotor_airfoil)\n",
    "blade = TurboRowPassage([hub_rotor_passage, mean_rotor_pasage, mean_rotor_pasage], radii=[0.1131, 0.1697, 0.2262])\n",
    "\n",
    "turbo_profile = blade.get_profile()\n",
    "\n",
    "import cadquery as cq\n",
    "cq.exporters.export(turbo_profile, \"rotor67.step\")\n",
    "\n",
    "from jupyter_cadquery import show\n",
    "show(turbo_profile)\n"
   ]
  },
  {
   "cell_type": "code",
   "execution_count": 24,
   "metadata": {},
   "outputs": [
    {
     "name": "stdout",
     "output_type": "stream",
     "text": [
      "/var/folders/kb/p4ww6pqn1k5blnhyw2j3cll00000gn/T/meshql_geom_cache/5cc97d1467ef2e95352c4e91334bce67.brep False\n",
      "/var/folders/kb/p4ww6pqn1k5blnhyw2j3cll00000gn/T/meshql_geom_cache/97c75d732b25d47c640e5cc55b60ef39.brep False\n",
      "100% ⋮————————————————————————————————————————————————————————————⋮ (2/2)  0.01s\n"
     ]
    },
    {
     "data": {
      "application/vnd.jupyter.widget-view+json": {
       "model_id": "04b227f6c8394081bab0e61163d281d6",
       "version_major": 2,
       "version_minor": 0
      },
      "text/plain": [
       "CadViewerWidget(anchor=None, cad_width=800, glass=False, height=600, pinning=False, theme='light', title=None,…"
      ]
     },
     "metadata": {},
     "output_type": "display_data"
    },
    {
     "data": {
      "text/html": [
       "<div></div>"
      ],
      "text/plain": [
       "<IPython.core.display.HTML object>"
      ]
     },
     "metadata": {},
     "output_type": "display_data"
    },
    {
     "name": "stdout",
     "output_type": "stream",
     "text": [
      "100% ⋮————————————————————————————————————————————————————————————⋮ (2/2)  0.00s\n"
     ]
    },
    {
     "data": {
      "application/vnd.jupyter.widget-view+json": {
       "model_id": "eb7cb623b4f74d78a22b4383e64fe79d",
       "version_major": 2,
       "version_minor": 0
      },
      "text/plain": [
       "CadViewerWidget(anchor=None, cad_width=800, glass=False, height=600, pinning=False, theme='light', title=None,…"
      ]
     },
     "metadata": {},
     "output_type": "display_data"
    },
    {
     "data": {
      "text/html": [
       "<div></div>"
      ],
      "text/plain": [
       "<IPython.core.display.HTML object>"
      ]
     },
     "metadata": {},
     "output_type": "display_data"
    },
    {
     "name": "stdout",
     "output_type": "stream",
     "text": [
      "100% ⋮————————————————————————————————————————————————————————————⋮ (2/2)  0.00s\n"
     ]
    },
    {
     "data": {
      "application/vnd.jupyter.widget-view+json": {
       "model_id": "f5fbcedd1b4b481c9dc7057bd12f29fc",
       "version_major": 2,
       "version_minor": 0
      },
      "text/plain": [
       "CadViewerWidget(anchor=None, cad_width=800, glass=False, height=600, pinning=False, theme='light', title=None,…"
      ]
     },
     "metadata": {},
     "output_type": "display_data"
    },
    {
     "data": {
      "text/html": [
       "<div></div>"
      ],
      "text/plain": [
       "<IPython.core.display.HTML object>"
      ]
     },
     "metadata": {},
     "output_type": "display_data"
    }
   ],
   "source": [
    "from typing import List, Optional, Sequence, Union\n",
    "from meshql import GeometryQL, Selection\n",
    "import cadquery as cq\n",
    "from jupyter_cadquery import show_object\n",
    "from parafoil.boundary_conditions import ConstantHeatfluxBoundaryCondition, InletTotalBoundaryCondition, OutletStaticPressureBoundaryCondition, PeriodicBoundaryCondition\n",
    "\n",
    "interior_right_side = Selection(type=\"interior\", filter=lambda edge: edge.Center().x>0)\n",
    "interior_left_side = Selection(type=\"interior\", filter=lambda edge: edge.Center().x<0)\n",
    "\n",
    "profile_bbox = turbo_profile.val().BoundingBox()\n",
    "\n",
    "# print(mean_rotor_pasage.leading_edge_gap)\n",
    "\n",
    "\n",
    "class DirectionSelector(cq.selectors.Selector):\n",
    "    def __init__(self, parent: cq.Workplane, selector_str: str) -> None:\n",
    "        super().__init__()\n",
    "        self.parent= parent\n",
    "        self.bbox = parent.val().BoundingBox()\n",
    "        self.bbox_center = parent.val().Center()\n",
    "        self.selector_str = selector_str\n",
    "        self.bbox_profile = cq.Workplane(\"XY\", origin=self.bbox_center).box(self.bbox.xlen*2, self.bbox.ylen*2, self.bbox.zlen*2)\n",
    "\n",
    "    def filter(self, objectList: Sequence[cq.Face]) -> List[cq.Face]:\n",
    "        filtered_faces = []\n",
    "\n",
    "        selector_face = self.bbox_profile.faces(self.selector_str).val()\n",
    "\n",
    "        for face in objectList:\n",
    "            faces = selector_face.facesIntersectedByLine(face.Center(), face.normalAt(), direction=\"AlongAxis\")\n",
    "            if len(faces) and faces[0] == selector_face:\n",
    "                filtered_faces.append(face)\n",
    "\n",
    "        return filtered_faces\n",
    "\n",
    "XYZRangeType = Optional[tuple[Optional[float], Optional[float]]]\n",
    "\n",
    "class XYZRangeSelector(cq.selectors.Selector):\n",
    "    def __init__(self, xyz_range: tuple[XYZRangeType, XYZRangeType, XYZRangeType]) -> None:\n",
    "        super().__init__()\n",
    "        self.xyz_range = xyz_range\n",
    "\n",
    "    def is_within_range(self, coord: float, coord_range: XYZRangeType) -> bool:\n",
    "        \"\"\"Utility method to check if a coordinate is within the specified range.\"\"\"\n",
    "        if coord_range is None:\n",
    "            return True\n",
    "        min_val, max_val = coord_range\n",
    "        return (min_val is None or coord >= min_val) and (max_val is None or coord <= max_val)\n",
    "\n",
    "    def filter(self, object_list: Sequence[cq.Shape]) -> List[cq.Face]:\n",
    "        filtered_faces = []\n",
    "        for shape in object_list:\n",
    "            center = shape.Center()\n",
    "            if all([\n",
    "                self.is_within_range(center.x, self.xyz_range[0]),\n",
    "                self.is_within_range(center.y, self.xyz_range[1]),\n",
    "                self.is_within_range(center.z, self.xyz_range[2])\n",
    "            ]):\n",
    "                filtered_faces.append(shape)\n",
    "                \n",
    "        return filtered_faces\n",
    "\n",
    "\n",
    "\n",
    "leading_x = mean_rotor_pasage.leading_edge_gap*0.2\n",
    "trailing_x = -mean_rotor_pasage.trailing_edge_gap*0.2\n",
    "\n",
    "# TODO: fix the meshql cache stuff\n",
    "with GeometryQL.gmsh() as geo:\n",
    "    new_geo = (\n",
    "        geo\n",
    "        .load(\n",
    "            turbo_profile,\n",
    "            on_split= lambda split: (\n",
    "                split\n",
    "                .from_plane(base_pnt=(leading_x, 0), angle=(90, 0, 0))\n",
    "                .from_plane(base_pnt=(trailing_x, 0), angle=(90, 0, 0))\n",
    "                .group(\n",
    "                     lambda split: (\n",
    "                        split\n",
    "                        .from_ratios(\n",
    "                            start=Selection(\">Z\", type=\"interior\"), \n",
    "                            end=Selection(\"<Z\", type=\"interior\"),\n",
    "                            ratios=[0.45, 0.95],\n",
    "                            dir=\"away\",\n",
    "                            snap=True,\n",
    "                        )\n",
    "                        .from_normals(interior_left_side, axis=[(-1, 0, 0), (0, 1, 0)])\n",
    "                        .from_normals(interior_right_side, axis=[(1, 0, 0), (0.5, -1, 0)])\n",
    "                     )\n",
    "                )\n",
    "            ),\n",
    "            max_dim=10,\n",
    "            use_cache=False\n",
    "        )\n",
    "        .faces(\">X\")\n",
    "        .addBoundaryCondition(\n",
    "           lambda i, face:  InletTotalBoundaryCondition(\n",
    "                label=\"inlet\",\n",
    "                total_temperature=300,\n",
    "                total_pressure=101325,\n",
    "                flow_direction=(-face.normalAt()).toTuple(),\n",
    "            )\n",
    "        )\n",
    "        .end()\n",
    "\n",
    "        .faces(\"<X\")\n",
    "        .addBoundaryCondition(\n",
    "            OutletStaticPressureBoundaryCondition(\n",
    "                label=\"outlet\",\n",
    "                static_pressure=101325,\n",
    "            )\n",
    "        )\n",
    "        .end()\n",
    "\n",
    "        # add periodic boundary conditions\n",
    "        .faces(DirectionSelector(turbo_profile, \">Y\"), type=\"exterior\")\n",
    "        .addPhysicalGroup(\"periodic1\")\n",
    "        .end()\n",
    "\n",
    "        .faces(DirectionSelector(turbo_profile, \"<Y\"), type=\"exterior\")\n",
    "        .addPhysicalGroup(\"periodic2\")\n",
    "        .end()\n",
    "\n",
    "        .addBoundaryCondition(\n",
    "            PeriodicBoundaryCondition(\n",
    "                label=\"periodic\",\n",
    "                periodic_label=\"periodic1\",\n",
    "                donor_label=\"periodic2\",\n",
    "            )\n",
    "        )\n",
    "\n",
    "\n",
    "\n",
    "        .faces(\">Z\")\n",
    "        .addBoundaryCondition(\n",
    "            ConstantHeatfluxBoundaryCondition(\n",
    "                label=\"shroud\"\n",
    "            )\n",
    "        )\n",
    "        .end()\n",
    "\n",
    "        .faces(type=\"interior\")\n",
    "        .addBoundaryCondition(\n",
    "            ConstantHeatfluxBoundaryCondition(\n",
    "                label=\"interior\"\n",
    "            )\n",
    "        )\n",
    "        .end()\n",
    "\n",
    "\n",
    "        .faces(\"<Z\")\n",
    "        .addBoundaryCondition(\n",
    "            ConstantHeatfluxBoundaryCondition(\n",
    "                label=\"hub\"\n",
    "            )\n",
    "        )\n",
    "\n",
    "        # TODO: replace with some sort of range selector\n",
    "\n",
    "        .faces(\">Z\")\n",
    "        \n",
    "        .faces(XYZRangeSelector(((trailing_x, leading_x), None, None)))\n",
    "        .show()\n",
    "        .end()\n",
    "\n",
    "\n",
    "        .faces(XYZRangeSelector(((None, trailing_x), None, None)))\n",
    "        .show()\n",
    "        .end()\n",
    "\n",
    "        .faces(XYZRangeSelector(((leading_x, None), None, None)))\n",
    "        .show()\n",
    "        .end()\n",
    "\n",
    "\n",
    "\n",
    "        .end()\n",
    "\n",
    "        \n",
    "\n",
    "        # .setTransfiniteAuto(max_nodes=200)\n",
    "        # .generate(3)\n",
    "        # .show(\"mesh\", only_markers=True)\n",
    "    )\n",
    "\n",
    "# center = turbo_profile.val().Center()\n",
    "# intersect_line = cq.Edge.makeLine(center, center + cq.Vector(0,1,0))\n",
    "# show(geo.workplane, intersect_line)"
   ]
  },
  {
   "cell_type": "code",
   "execution_count": null,
   "metadata": {},
   "outputs": [],
   "source": []
  }
 ],
 "metadata": {
  "kernelspec": {
   "display_name": "cadquery",
   "language": "python",
   "name": "python3"
  },
  "language_info": {
   "codemirror_mode": {
    "name": "ipython",
    "version": 3
   },
   "file_extension": ".py",
   "mimetype": "text/x-python",
   "name": "python",
   "nbconvert_exporter": "python",
   "pygments_lexer": "ipython3",
   "version": "3.11.8"
  },
  "orig_nbformat": 4
 },
 "nbformat": 4,
 "nbformat_minor": 2
}
