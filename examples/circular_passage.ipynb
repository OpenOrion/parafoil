{
 "cells": [
  {
   "cell_type": "code",
   "execution_count": 1,
   "metadata": {},
   "outputs": [
    {
     "data": {
      "application/vnd.plotly.v1+json": {
       "config": {
        "plotlyServerURL": "https://plot.ly"
       },
       "data": [
        {
         "fill": "toself",
         "legendgroup": "passage",
         "name": "Passage",
         "type": "scatter",
         "x": [
          40,
          39.671600552929846,
          38.69179452156118,
          37.07667029384087,
          34.852748164935576,
          32.05654487471827,
          28.733974003909108,
          24.939592074349342,
          20.735702732421007,
          16.19133372489576,
          11.381103465241306,
          6.383995801335182,
          1.2820631028662133,
          -3.8409210363072614,
          -8.900837358252573,
          -13.81460217685229,
          -18.501531609633403,
          -22.88466640488678,
          -26.892035610452663,
          -30.457838334765377,
          -33.523524195673616,
          -36.03875471609676,
          -37.96222988042674,
          -39.26236627964261,
          -39.91781571001346,
          -39.91781571001346,
          -39.26236627964262,
          -37.962229880426754,
          -36.03875471609677,
          -33.52352419567363,
          -30.457838334765395,
          -26.892035610452695,
          -22.8846664048868,
          -18.501531609633414,
          -13.814602176852325,
          -8.900837358252618,
          -3.8409210363072974,
          1.2820631028661944,
          6.383995801335171,
          11.381103465241246,
          16.191333724895717,
          20.73570273242098,
          24.939592074349335,
          28.733974003909083,
          32.05654487471824,
          34.85274816493556,
          37.07667029384086,
          38.69179452156117,
          39.671600552929846,
          40
         ],
         "y": [
          0,
          5.11508646738024,
          10.146183356380295,
          15.010680195174963,
          19.628702080157513,
          23.924421219648636,
          27.827302024139456,
          31.273259298721193,
          34.20571052021384,
          36.576504920632495,
          38.34671412146642,
          39.487271336578004,
          39.979448648027514,
          39.81516451796793,
          38.99711648727295,
          37.538736881990424,
          35.46397225492,
          32.80689018387824,
          29.611119883012627,
          25.929135812311536,
          21.82139604842196,
          17.35534956470233,
          12.604328720944851,
          7.646345148054902,
          2.562808799228529,
          -2.56280879922852,
          -7.646345148054875,
          -12.604328720944808,
          -17.35534956470232,
          -21.82139604842194,
          -25.929135812311515,
          -29.611119883012602,
          -32.806890183878224,
          -35.46397225492,
          -37.53873688199041,
          -38.99711648727293,
          -39.81516451796792,
          -39.979448648027514,
          -39.487271336578004,
          -38.34671412146644,
          -36.576504920632516,
          -34.205710520213856,
          -31.273259298721197,
          -27.827302024139478,
          -23.92442121964868,
          -19.628702080157545,
          -15.010680195174984,
          -10.1461833563803,
          -5.115086467380266,
          -9.797174393178826e-15
         ]
        },
        {
         "fill": "toself",
         "legendgroup": "airfoil",
         "legendgrouptitle": {
          "text": "Airfoils"
         },
         "name": "Airfoil",
         "type": "scatter",
         "x": [
          -0.0005395094978447474,
          -0.0019763024380101313,
          -0.0037848024552846766,
          -0.005153504785889187,
          -0.005078275824436855,
          -0.0024863481015535743,
          0.003615283350904517,
          0.013974697994656064,
          0.028921776986099792,
          0.048196136257850436,
          0.07078584618503632,
          0.09496552415457056,
          0.11993906554441985,
          0.14574458641512023,
          0.1725369763219712,
          0.2005827755961739,
          0.23022237531765288,
          0.2614514691559081,
          0.2939723812614878,
          0.32743524593202267,
          0.36145157692170266,
          0.39565994253701064,
          0.42975131164863156,
          0.46341696209698435,
          0.49635835079668505,
          0.5284360930545274,
          0.5596706836493528,
          0.5900949512405075,
          0.6197447179018376,
          0.6486981322675455,
          0.6770562605252306,
          0.7048931579103638,
          0.7322538615069457,
          0.7594244594295473,
          0.7869858449296282,
          0.8153258550639886,
          0.8445982495027509,
          0.8747230472381905,
          0.9044979602355068,
          0.9314922951347072,
          0.9541198769757059,
          0.9717036704393622,
          0.9842915951867536,
          0.9924590111557738,
          0.9971091300331649,
          0.9992823056724826,
          0.999984387126524,
          1.000043119223539,
          1,
          0.9999241328483298,
          0.9994979552855694,
          0.9981499025508924,
          0.9950066886059139,
          0.9890080581877663,
          0.9790591590116724,
          0.9642126684359955,
          0.9438711363083948,
          0.9179987332569403,
          0.88733077738969,
          0.8535690904581955,
          0.8193166286240307,
          0.7859102065697968,
          0.753532520690586,
          0.7221420913870241,
          0.691472223255772,
          0.6610775469130378,
          0.6309018628721729,
          0.6012090932232097,
          0.572258623288715,
          0.5442944646916871,
          0.5174988715849422,
          0.49197791165227606,
          0.4678069861547881,
          0.44502861252916226,
          0.4235126352140915,
          0.40296501301486715,
          0.3830848425298399,
          0.36358192197632155,
          0.3441316907502102,
          0.3244066594334854,
          0.3041469752187274,
          0.2831686173471648,
          0.26111613083046414,
          0.2374143718777105,
          0.2117216540055663,
          0.18396539259454553,
          0.15433681128802185,
          0.12406561417400853,
          0.09550421790086969,
          0.07029303392671792,
          0.04929188945327571,
          0.03272979783103422,
          0.020366372820067452,
          0.011655483184812705,
          0.005901991513173821,
          0.0024030598672607328,
          0.0005665046894229461,
          0
         ],
         "y": [
          0.0006710760246047802,
          0.0027996981630500303,
          0.0067153788263185,
          0.012912599623072436,
          0.02197172751970452,
          0.03445411907561599,
          0.050776940904545674,
          0.0710744075764529,
          0.09505302834469638,
          0.12184902181391837,
          0.14989627600583424,
          0.17698513209786065,
          0.20186072440291608,
          0.22415024698559272,
          0.24368964212687252,
          0.26053092995307386,
          0.27490863953295164,
          0.28677761967639304,
          0.2958721920460417,
          0.30197384653169096,
          0.3049219884091123,
          0.30470034774673166,
          0.30145964581442486,
          0.295421586315024,
          0.28686310774146345,
          0.27609432555021024,
          0.2634471173275965,
          0.24927477185389157,
          0.23393844077904566,
          0.21775329175306643,
          0.20099224124293938,
          0.18392069770082195,
          0.16678931547681267,
          0.14966680907588578,
          0.13240305001765204,
          0.11491538686890079,
          0.09721221741838866,
          0.07939256398753837,
          0.0620431738651741,
          0.04628668982440306,
          0.03285714458784582,
          0.022072656759848194,
          0.013919474163439893,
          0.008142098667742806,
          0.004334356538665455,
          0.002026416863901071,
          0.0007631115663323222,
          0.00016945749511769064,
          0,
          -0.00015687935550755887,
          -0.000564267912569594,
          -0.001039929809125216,
          -0.0013048012874240919,
          -0.0010186720674818194,
          0.00017242992268047135,
          0.002579590972241312,
          0.006408060748963106,
          0.011691352765975162,
          0.018226004259553355,
          0.02551070380696225,
          0.03276304002767923,
          0.039559831000103296,
          0.0458023962488648,
          0.051440103512279796,
          0.056470728601304816,
          0.060932038216114884,
          0.06478601940523082,
          0.0679342437051144,
          0.07028582804045287,
          0.0717617629705134,
          0.07233770738844264,
          0.07205616532118493,
          0.07098122884771228,
          0.06919349828331657,
          0.06679779999479034,
          0.06391916041232866,
          0.06068718538009531,
          0.05722554466437021,
          0.053559764972690195,
          0.04964207932158192,
          0.045438256732284944,
          0.04093032455962482,
          0.03601665770630377,
          0.03049171206440888,
          0.02422532263838323,
          0.01717721489109497,
          0.009398281418362912,
          0.0015347622947159518,
          -0.005107159253583941,
          -0.009723957139866506,
          -0.012044173617630544,
          -0.012216948357893628,
          -0.010692787971619776,
          -0.008103292344914947,
          -0.005146370874456927,
          -0.0024830213996272594,
          -0.0006510287739888206,
          0
         ]
        }
       ],
       "layout": {
        "template": {
         "data": {
          "bar": [
           {
            "error_x": {
             "color": "#2a3f5f"
            },
            "error_y": {
             "color": "#2a3f5f"
            },
            "marker": {
             "line": {
              "color": "#E5ECF6",
              "width": 0.5
             },
             "pattern": {
              "fillmode": "overlay",
              "size": 10,
              "solidity": 0.2
             }
            },
            "type": "bar"
           }
          ],
          "barpolar": [
           {
            "marker": {
             "line": {
              "color": "#E5ECF6",
              "width": 0.5
             },
             "pattern": {
              "fillmode": "overlay",
              "size": 10,
              "solidity": 0.2
             }
            },
            "type": "barpolar"
           }
          ],
          "carpet": [
           {
            "aaxis": {
             "endlinecolor": "#2a3f5f",
             "gridcolor": "white",
             "linecolor": "white",
             "minorgridcolor": "white",
             "startlinecolor": "#2a3f5f"
            },
            "baxis": {
             "endlinecolor": "#2a3f5f",
             "gridcolor": "white",
             "linecolor": "white",
             "minorgridcolor": "white",
             "startlinecolor": "#2a3f5f"
            },
            "type": "carpet"
           }
          ],
          "choropleth": [
           {
            "colorbar": {
             "outlinewidth": 0,
             "ticks": ""
            },
            "type": "choropleth"
           }
          ],
          "contour": [
           {
            "colorbar": {
             "outlinewidth": 0,
             "ticks": ""
            },
            "colorscale": [
             [
              0,
              "#0d0887"
             ],
             [
              0.1111111111111111,
              "#46039f"
             ],
             [
              0.2222222222222222,
              "#7201a8"
             ],
             [
              0.3333333333333333,
              "#9c179e"
             ],
             [
              0.4444444444444444,
              "#bd3786"
             ],
             [
              0.5555555555555556,
              "#d8576b"
             ],
             [
              0.6666666666666666,
              "#ed7953"
             ],
             [
              0.7777777777777778,
              "#fb9f3a"
             ],
             [
              0.8888888888888888,
              "#fdca26"
             ],
             [
              1,
              "#f0f921"
             ]
            ],
            "type": "contour"
           }
          ],
          "contourcarpet": [
           {
            "colorbar": {
             "outlinewidth": 0,
             "ticks": ""
            },
            "type": "contourcarpet"
           }
          ],
          "heatmap": [
           {
            "colorbar": {
             "outlinewidth": 0,
             "ticks": ""
            },
            "colorscale": [
             [
              0,
              "#0d0887"
             ],
             [
              0.1111111111111111,
              "#46039f"
             ],
             [
              0.2222222222222222,
              "#7201a8"
             ],
             [
              0.3333333333333333,
              "#9c179e"
             ],
             [
              0.4444444444444444,
              "#bd3786"
             ],
             [
              0.5555555555555556,
              "#d8576b"
             ],
             [
              0.6666666666666666,
              "#ed7953"
             ],
             [
              0.7777777777777778,
              "#fb9f3a"
             ],
             [
              0.8888888888888888,
              "#fdca26"
             ],
             [
              1,
              "#f0f921"
             ]
            ],
            "type": "heatmap"
           }
          ],
          "heatmapgl": [
           {
            "colorbar": {
             "outlinewidth": 0,
             "ticks": ""
            },
            "colorscale": [
             [
              0,
              "#0d0887"
             ],
             [
              0.1111111111111111,
              "#46039f"
             ],
             [
              0.2222222222222222,
              "#7201a8"
             ],
             [
              0.3333333333333333,
              "#9c179e"
             ],
             [
              0.4444444444444444,
              "#bd3786"
             ],
             [
              0.5555555555555556,
              "#d8576b"
             ],
             [
              0.6666666666666666,
              "#ed7953"
             ],
             [
              0.7777777777777778,
              "#fb9f3a"
             ],
             [
              0.8888888888888888,
              "#fdca26"
             ],
             [
              1,
              "#f0f921"
             ]
            ],
            "type": "heatmapgl"
           }
          ],
          "histogram": [
           {
            "marker": {
             "pattern": {
              "fillmode": "overlay",
              "size": 10,
              "solidity": 0.2
             }
            },
            "type": "histogram"
           }
          ],
          "histogram2d": [
           {
            "colorbar": {
             "outlinewidth": 0,
             "ticks": ""
            },
            "colorscale": [
             [
              0,
              "#0d0887"
             ],
             [
              0.1111111111111111,
              "#46039f"
             ],
             [
              0.2222222222222222,
              "#7201a8"
             ],
             [
              0.3333333333333333,
              "#9c179e"
             ],
             [
              0.4444444444444444,
              "#bd3786"
             ],
             [
              0.5555555555555556,
              "#d8576b"
             ],
             [
              0.6666666666666666,
              "#ed7953"
             ],
             [
              0.7777777777777778,
              "#fb9f3a"
             ],
             [
              0.8888888888888888,
              "#fdca26"
             ],
             [
              1,
              "#f0f921"
             ]
            ],
            "type": "histogram2d"
           }
          ],
          "histogram2dcontour": [
           {
            "colorbar": {
             "outlinewidth": 0,
             "ticks": ""
            },
            "colorscale": [
             [
              0,
              "#0d0887"
             ],
             [
              0.1111111111111111,
              "#46039f"
             ],
             [
              0.2222222222222222,
              "#7201a8"
             ],
             [
              0.3333333333333333,
              "#9c179e"
             ],
             [
              0.4444444444444444,
              "#bd3786"
             ],
             [
              0.5555555555555556,
              "#d8576b"
             ],
             [
              0.6666666666666666,
              "#ed7953"
             ],
             [
              0.7777777777777778,
              "#fb9f3a"
             ],
             [
              0.8888888888888888,
              "#fdca26"
             ],
             [
              1,
              "#f0f921"
             ]
            ],
            "type": "histogram2dcontour"
           }
          ],
          "mesh3d": [
           {
            "colorbar": {
             "outlinewidth": 0,
             "ticks": ""
            },
            "type": "mesh3d"
           }
          ],
          "parcoords": [
           {
            "line": {
             "colorbar": {
              "outlinewidth": 0,
              "ticks": ""
             }
            },
            "type": "parcoords"
           }
          ],
          "pie": [
           {
            "automargin": true,
            "type": "pie"
           }
          ],
          "scatter": [
           {
            "fillpattern": {
             "fillmode": "overlay",
             "size": 10,
             "solidity": 0.2
            },
            "type": "scatter"
           }
          ],
          "scatter3d": [
           {
            "line": {
             "colorbar": {
              "outlinewidth": 0,
              "ticks": ""
             }
            },
            "marker": {
             "colorbar": {
              "outlinewidth": 0,
              "ticks": ""
             }
            },
            "type": "scatter3d"
           }
          ],
          "scattercarpet": [
           {
            "marker": {
             "colorbar": {
              "outlinewidth": 0,
              "ticks": ""
             }
            },
            "type": "scattercarpet"
           }
          ],
          "scattergeo": [
           {
            "marker": {
             "colorbar": {
              "outlinewidth": 0,
              "ticks": ""
             }
            },
            "type": "scattergeo"
           }
          ],
          "scattergl": [
           {
            "marker": {
             "colorbar": {
              "outlinewidth": 0,
              "ticks": ""
             }
            },
            "type": "scattergl"
           }
          ],
          "scattermapbox": [
           {
            "marker": {
             "colorbar": {
              "outlinewidth": 0,
              "ticks": ""
             }
            },
            "type": "scattermapbox"
           }
          ],
          "scatterpolar": [
           {
            "marker": {
             "colorbar": {
              "outlinewidth": 0,
              "ticks": ""
             }
            },
            "type": "scatterpolar"
           }
          ],
          "scatterpolargl": [
           {
            "marker": {
             "colorbar": {
              "outlinewidth": 0,
              "ticks": ""
             }
            },
            "type": "scatterpolargl"
           }
          ],
          "scatterternary": [
           {
            "marker": {
             "colorbar": {
              "outlinewidth": 0,
              "ticks": ""
             }
            },
            "type": "scatterternary"
           }
          ],
          "surface": [
           {
            "colorbar": {
             "outlinewidth": 0,
             "ticks": ""
            },
            "colorscale": [
             [
              0,
              "#0d0887"
             ],
             [
              0.1111111111111111,
              "#46039f"
             ],
             [
              0.2222222222222222,
              "#7201a8"
             ],
             [
              0.3333333333333333,
              "#9c179e"
             ],
             [
              0.4444444444444444,
              "#bd3786"
             ],
             [
              0.5555555555555556,
              "#d8576b"
             ],
             [
              0.6666666666666666,
              "#ed7953"
             ],
             [
              0.7777777777777778,
              "#fb9f3a"
             ],
             [
              0.8888888888888888,
              "#fdca26"
             ],
             [
              1,
              "#f0f921"
             ]
            ],
            "type": "surface"
           }
          ],
          "table": [
           {
            "cells": {
             "fill": {
              "color": "#EBF0F8"
             },
             "line": {
              "color": "white"
             }
            },
            "header": {
             "fill": {
              "color": "#C8D4E3"
             },
             "line": {
              "color": "white"
             }
            },
            "type": "table"
           }
          ]
         },
         "layout": {
          "annotationdefaults": {
           "arrowcolor": "#2a3f5f",
           "arrowhead": 0,
           "arrowwidth": 1
          },
          "autotypenumbers": "strict",
          "coloraxis": {
           "colorbar": {
            "outlinewidth": 0,
            "ticks": ""
           }
          },
          "colorscale": {
           "diverging": [
            [
             0,
             "#8e0152"
            ],
            [
             0.1,
             "#c51b7d"
            ],
            [
             0.2,
             "#de77ae"
            ],
            [
             0.3,
             "#f1b6da"
            ],
            [
             0.4,
             "#fde0ef"
            ],
            [
             0.5,
             "#f7f7f7"
            ],
            [
             0.6,
             "#e6f5d0"
            ],
            [
             0.7,
             "#b8e186"
            ],
            [
             0.8,
             "#7fbc41"
            ],
            [
             0.9,
             "#4d9221"
            ],
            [
             1,
             "#276419"
            ]
           ],
           "sequential": [
            [
             0,
             "#0d0887"
            ],
            [
             0.1111111111111111,
             "#46039f"
            ],
            [
             0.2222222222222222,
             "#7201a8"
            ],
            [
             0.3333333333333333,
             "#9c179e"
            ],
            [
             0.4444444444444444,
             "#bd3786"
            ],
            [
             0.5555555555555556,
             "#d8576b"
            ],
            [
             0.6666666666666666,
             "#ed7953"
            ],
            [
             0.7777777777777778,
             "#fb9f3a"
            ],
            [
             0.8888888888888888,
             "#fdca26"
            ],
            [
             1,
             "#f0f921"
            ]
           ],
           "sequentialminus": [
            [
             0,
             "#0d0887"
            ],
            [
             0.1111111111111111,
             "#46039f"
            ],
            [
             0.2222222222222222,
             "#7201a8"
            ],
            [
             0.3333333333333333,
             "#9c179e"
            ],
            [
             0.4444444444444444,
             "#bd3786"
            ],
            [
             0.5555555555555556,
             "#d8576b"
            ],
            [
             0.6666666666666666,
             "#ed7953"
            ],
            [
             0.7777777777777778,
             "#fb9f3a"
            ],
            [
             0.8888888888888888,
             "#fdca26"
            ],
            [
             1,
             "#f0f921"
            ]
           ]
          },
          "colorway": [
           "#636efa",
           "#EF553B",
           "#00cc96",
           "#ab63fa",
           "#FFA15A",
           "#19d3f3",
           "#FF6692",
           "#B6E880",
           "#FF97FF",
           "#FECB52"
          ],
          "font": {
           "color": "#2a3f5f"
          },
          "geo": {
           "bgcolor": "white",
           "lakecolor": "white",
           "landcolor": "#E5ECF6",
           "showlakes": true,
           "showland": true,
           "subunitcolor": "white"
          },
          "hoverlabel": {
           "align": "left"
          },
          "hovermode": "closest",
          "mapbox": {
           "style": "light"
          },
          "paper_bgcolor": "white",
          "plot_bgcolor": "#E5ECF6",
          "polar": {
           "angularaxis": {
            "gridcolor": "white",
            "linecolor": "white",
            "ticks": ""
           },
           "bgcolor": "#E5ECF6",
           "radialaxis": {
            "gridcolor": "white",
            "linecolor": "white",
            "ticks": ""
           }
          },
          "scene": {
           "xaxis": {
            "backgroundcolor": "#E5ECF6",
            "gridcolor": "white",
            "gridwidth": 2,
            "linecolor": "white",
            "showbackground": true,
            "ticks": "",
            "zerolinecolor": "white"
           },
           "yaxis": {
            "backgroundcolor": "#E5ECF6",
            "gridcolor": "white",
            "gridwidth": 2,
            "linecolor": "white",
            "showbackground": true,
            "ticks": "",
            "zerolinecolor": "white"
           },
           "zaxis": {
            "backgroundcolor": "#E5ECF6",
            "gridcolor": "white",
            "gridwidth": 2,
            "linecolor": "white",
            "showbackground": true,
            "ticks": "",
            "zerolinecolor": "white"
           }
          },
          "shapedefaults": {
           "line": {
            "color": "#2a3f5f"
           }
          },
          "ternary": {
           "aaxis": {
            "gridcolor": "white",
            "linecolor": "white",
            "ticks": ""
           },
           "baxis": {
            "gridcolor": "white",
            "linecolor": "white",
            "ticks": ""
           },
           "bgcolor": "#E5ECF6",
           "caxis": {
            "gridcolor": "white",
            "linecolor": "white",
            "ticks": ""
           }
          },
          "title": {
           "x": 0.05
          },
          "xaxis": {
           "automargin": true,
           "gridcolor": "white",
           "linecolor": "white",
           "ticks": "",
           "title": {
            "standoff": 15
           },
           "zerolinecolor": "white",
           "zerolinewidth": 2
          },
          "yaxis": {
           "automargin": true,
           "gridcolor": "white",
           "linecolor": "white",
           "ticks": "",
           "title": {
            "standoff": 15
           },
           "zerolinecolor": "white",
           "zerolinewidth": 2
          }
         }
        },
        "title": {
         "text": "Passage"
        },
        "yaxis": {
         "scaleanchor": "x"
        }
       }
      }
     },
     "metadata": {},
     "output_type": "display_data"
    }
   ],
   "source": [
    "import numpy as np\n",
    "from parafoil import CamberThicknessAirfoil, CircularPassage\n",
    "\n",
    "airfoil = CamberThicknessAirfoil(\n",
    "    inlet_angle=40.0,\n",
    "    outlet_angle=-20.0,\n",
    "    stagger_angle=np.radians(0.0),\n",
    "    upper_thick_prop=[0.035, 0.14, 0.14, 0.035, 0.007],\n",
    "    lower_thick_prop=[0.035, 0.14, 0.14, 0.035, 0.007],\n",
    "    leading_prop=0.5,\n",
    "    trailing_prop=0.5,\n",
    "    chord_length=1,\n",
    "    angle_units=\"deg\"\n",
    ")\n",
    "\n",
    "# 100x chord length radius traditionally for airfoil external flow problem\n",
    "passage = CircularPassage(\n",
    "    airfoil=airfoil,\n",
    "    radius=40.0,\n",
    ")\n",
    "\n",
    "passage.visualize()"
   ]
  },
  {
   "cell_type": "code",
   "execution_count": 2,
   "metadata": {},
   "outputs": [
    {
     "name": "stderr",
     "output_type": "stream",
     "text": [
      "Warning : Start point 50 and end point 1 of GEO line 50 are closer than the geometrical tolerance, at position (40, -9.79717e-15, 0)\n"
     ]
    },
    {
     "name": "stdout",
     "output_type": "stream",
     "text": [
      "Info    : Meshing 1D...\n",
      "Info    : [  0%] Meshing curve 1 (Line)\n",
      "Info    : [ 10%] Meshing curve 2 (Line)\n",
      "Info    : [ 10%] Meshing curve 3 (Line)\n",
      "Info    : [ 10%] Meshing curve 4 (Line)\n",
      "Info    : [ 10%] Meshing curve 5 (Line)\n",
      "Info    : [ 10%] Meshing curve 6 (Line)\n",
      "Info    : [ 10%] Meshing curve 7 (Line)\n",
      "Info    : [ 10%] Meshing curve 8 (Line)\n",
      "Info    : [ 10%] Meshing curve 9 (Line)\n",
      "Info    : [ 10%] Meshing curve 10 (Line)\n",
      "Info    : [ 10%] Meshing curve 11 (Line)\n",
      "Info    : [ 10%] Meshing curve 12 (Line)\n",
      "Info    : [ 10%] Meshing curve 13 (Line)\n",
      "Info    : [ 10%] Meshing curve 14 (Line)\n",
      "Info    : [ 10%] Meshing curve 15 (Line)\n",
      "Info    : [ 20%] Meshing curve 16 (Line)\n",
      "Info    : [ 20%] Meshing curve 17 (Line)\n",
      "Info    : [ 20%] Meshing curve 18 (Line)\n",
      "Info    : [ 20%] Meshing curve 19 (Line)\n",
      "Info    : [ 20%] Meshing curve 20 (Line)\n",
      "Info    : [ 20%] Meshing curve 21 (Line)\n",
      "Info    : [ 20%] Meshing curve 22 (Line)\n",
      "Info    : [ 20%] Meshing curve 23 (Line)\n",
      "Info    : [ 20%] Meshing curve 24 (Line)\n",
      "Info    : [ 20%] Meshing curve 25 (Line)\n",
      "Info    : [ 20%] Meshing curve 26 (Line)\n",
      "Info    : [ 20%] Meshing curve 27 (Line)\n",
      "Info    : [ 20%] Meshing curve 28 (Line)\n",
      "Info    : [ 20%] Meshing curve 29 (Line)\n",
      "Info    : [ 20%] Meshing curve 30 (Line)\n",
      "Info    : [ 30%] Meshing curve 31 (Line)\n",
      "Info    : [ 30%] Meshing curve 32 (Line)\n",
      "Info    : [ 30%] Meshing curve 33 (Line)\n",
      "Info    : [ 30%] Meshing curve 34 (Line)\n",
      "Info    : [ 30%] Meshing curve 35 (Line)\n",
      "Info    : [ 30%] Meshing curve 36 (Line)\n",
      "Info    : [ 30%] Meshing curve 37 (Line)\n",
      "Info    : [ 30%] Meshing curve 38 (Line)\n",
      "Info    : [ 30%] Meshing curve 39 (Line)\n",
      "Info    : [ 30%] Meshing curve 40 (Line)\n",
      "Info    : [ 30%] Meshing curve 41 (Line)\n",
      "Info    : [ 30%] Meshing curve 42 (Line)\n",
      "Info    : [ 30%] Meshing curve 43 (Line)\n",
      "Info    : [ 30%] Meshing curve 44 (Line)\n",
      "Info    : [ 30%] Meshing curve 45 (Line)\n",
      "Info    : [ 40%] Meshing curve 46 (Line)\n",
      "Info    : [ 40%] Meshing curve 47 (Line)\n",
      "Info    : [ 40%] Meshing curve 48 (Line)\n",
      "Info    : [ 40%] Meshing curve 49 (Line)\n",
      "Info    : [ 40%] Meshing curve 50 (Line)\n",
      "Info    : [ 40%] Meshing curve 51 (Line)\n",
      "Info    : [ 40%] Meshing curve 52 (Line)\n",
      "Info    : [ 40%] Meshing curve 53 (Line)\n",
      "Info    : [ 40%] Meshing curve 54 (Line)\n",
      "Info    : [ 40%] Meshing curve 55 (Line)\n",
      "Info    : [ 40%] Meshing curve 56 (Line)\n",
      "Info    : [ 40%] Meshing curve 57 (Line)\n",
      "Info    : [ 40%] Meshing curve 58 (Line)\n",
      "Info    : [ 40%] Meshing curve 59 (Line)\n",
      "Info    : [ 40%] Meshing curve 60 (Line)\n",
      "Info    : [ 50%] Meshing curve 61 (Line)\n",
      "Info    : [ 50%] Meshing curve 62 (Line)\n",
      "Info    : [ 50%] Meshing curve 63 (Line)\n",
      "Info    : [ 50%] Meshing curve 64 (Line)\n",
      "Info    : [ 50%] Meshing curve 65 (Line)\n",
      "Info    : [ 50%] Meshing curve 66 (Line)\n",
      "Info    : [ 50%] Meshing curve 67 (Line)\n",
      "Info    : [ 50%] Meshing curve 68 (Line)\n",
      "Info    : [ 50%] Meshing curve 69 (Line)\n",
      "Info    : [ 50%] Meshing curve 70 (Line)\n",
      "Info    : [ 50%] Meshing curve 71 (Line)\n",
      "Info    : [ 50%] Meshing curve 72 (Line)\n",
      "Info    : [ 50%] Meshing curve 73 (Line)\n",
      "Info    : [ 50%] Meshing curve 74 (Line)\n",
      "Info    : [ 50%] Meshing curve 75 (Line)\n",
      "Info    : [ 60%] Meshing curve 76 (Line)\n",
      "Info    : [ 60%] Meshing curve 77 (Line)\n",
      "Info    : [ 60%] Meshing curve 78 (Line)\n",
      "Info    : [ 60%] Meshing curve 79 (Line)\n",
      "Info    : [ 60%] Meshing curve 80 (Line)\n",
      "Info    : [ 60%] Meshing curve 81 (Line)\n",
      "Info    : [ 60%] Meshing curve 82 (Line)\n",
      "Info    : [ 60%] Meshing curve 83 (Line)\n",
      "Info    : [ 60%] Meshing curve 84 (Line)\n",
      "Info    : [ 60%] Meshing curve 85 (Line)\n",
      "Info    : [ 60%] Meshing curve 86 (Line)\n",
      "Info    : [ 60%] Meshing curve 87 (Line)\n",
      "Info    : [ 60%] Meshing curve 88 (Line)\n",
      "Info    : [ 60%] Meshing curve 89 (Line)\n",
      "Info    : [ 70%] Meshing curve 90 (Line)\n",
      "Info    : [ 70%] Meshing curve 91 (Line)\n",
      "Info    : [ 70%] Meshing curve 92 (Line)\n",
      "Info    : [ 70%] Meshing curve 93 (Line)\n",
      "Info    : [ 70%] Meshing curve 94 (Line)\n",
      "Info    : [ 70%] Meshing curve 95 (Line)\n",
      "Info    : [ 70%] Meshing curve 96 (Line)\n",
      "Info    : [ 70%] Meshing curve 97 (Line)\n",
      "Info    : [ 70%] Meshing curve 98 (Line)\n",
      "Info    : [ 70%] Meshing curve 99 (Line)\n",
      "Info    : [ 70%] Meshing curve 100 (Line)\n",
      "Info    : [ 70%] Meshing curve 101 (Line)\n",
      "Info    : [ 70%] Meshing curve 102 (Line)\n",
      "Info    : [ 70%] Meshing curve 103 (Line)\n",
      "Info    : [ 70%] Meshing curve 104 (Line)\n",
      "Info    : [ 80%] Meshing curve 105 (Line)\n",
      "Info    : [ 80%] Meshing curve 106 (Line)\n",
      "Info    : [ 80%] Meshing curve 107 (Line)\n",
      "Info    : [ 80%] Meshing curve 108 (Line)\n",
      "Info    : [ 80%] Meshing curve 109 (Line)\n",
      "Info    : [ 80%] Meshing curve 110 (Line)\n",
      "Info    : [ 80%] Meshing curve 111 (Line)\n",
      "Info    : [ 80%] Meshing curve 112 (Line)\n",
      "Info    : [ 80%] Meshing curve 113 (Line)\n",
      "Info    : [ 80%] Meshing curve 114 (Line)\n",
      "Info    : [ 80%] Meshing curve 115 (Line)\n",
      "Info    : [ 80%] Meshing curve 116 (Line)\n",
      "Info    : [ 80%] Meshing curve 117 (Line)\n",
      "Info    : [ 80%] Meshing curve 118 (Line)\n",
      "Info    : [ 80%] Meshing curve 119 (Line)\n",
      "Info    : [ 90%] Meshing curve 120 (Line)\n",
      "Info    : [ 90%] Meshing curve 121 (Line)\n",
      "Info    : [ 90%] Meshing curve 122 (Line)\n",
      "Info    : [ 90%] Meshing curve 123 (Line)\n",
      "Info    : [ 90%] Meshing curve 124 (Line)\n",
      "Info    : [ 90%] Meshing curve 125 (Line)\n",
      "Info    : [ 90%] Meshing curve 126 (Line)\n",
      "Info    : [ 90%] Meshing curve 127 (Line)\n",
      "Info    : [ 90%] Meshing curve 128 (Line)\n",
      "Info    : [ 90%] Meshing curve 129 (Line)\n",
      "Info    : [ 90%] Meshing curve 130 (Line)\n",
      "Info    : [ 90%] Meshing curve 131 (Line)\n",
      "Info    : [ 90%] Meshing curve 132 (Line)\n",
      "Info    : [ 90%] Meshing curve 133 (Line)\n",
      "Info    : [ 90%] Meshing curve 134 (Line)\n",
      "Info    : [100%] Meshing curve 135 (Line)\n",
      "Info    : [100%] Meshing curve 136 (Line)\n",
      "Info    : [100%] Meshing curve 137 (Line)\n",
      "Info    : [100%] Meshing curve 138 (Line)\n",
      "Info    : [100%] Meshing curve 139 (Line)\n",
      "Info    : [100%] Meshing curve 140 (Line)\n",
      "Info    : [100%] Meshing curve 141 (Line)\n",
      "Info    : [100%] Meshing curve 142 (Line)\n",
      "Info    : [100%] Meshing curve 143 (Line)\n",
      "Info    : [100%] Meshing curve 144 (Line)\n",
      "Info    : [100%] Meshing curve 145 (Line)\n",
      "Info    : [100%] Meshing curve 146 (Line)\n",
      "Info    : [100%] Meshing curve 147 (Line)\n",
      "Info    : [100%] Meshing curve 148 (Line)\n",
      "Info    : Done meshing 1D (Wall 0.00503158s, CPU 0.005467s)\n",
      "Info    : Meshing 2D...\n",
      "Info    : Meshing surface 1 (Plane, Frontal-Delaunay)\n",
      "Info    : Done meshing 2D (Wall 0.695336s, CPU 0.678298s)\n",
      "Info    : Meshing 3D...\n",
      "Info    : Done meshing 3D (Wall 3.6958e-05s, CPU 4e-06s)\n",
      "Info    : 31645 nodes 63438 elements\n",
      "Setting up SU2 Simulation for /Users/afshawnlotfi/Documents/parafoil/simulation_out/config1.cfg\n",
      "Running SU2 Simulation for /Users/afshawnlotfi/Documents/parafoil/simulation_out/config1.cfg\n"
     ]
    },
    {
     "data": {
      "text/html": [
       "<div>\n",
       "<style scoped>\n",
       "    .dataframe tbody tr th:only-of-type {\n",
       "        vertical-align: middle;\n",
       "    }\n",
       "\n",
       "    .dataframe tbody tr th {\n",
       "        vertical-align: top;\n",
       "    }\n",
       "\n",
       "    .dataframe thead th {\n",
       "        text-align: right;\n",
       "    }\n",
       "</style>\n",
       "<table border=\"1\" class=\"dataframe\">\n",
       "  <thead>\n",
       "    <tr style=\"text-align: right;\">\n",
       "      <th></th>\n",
       "      <th>Inner_Iter</th>\n",
       "      <th>\"Time(sec)\"</th>\n",
       "      <th>\"rms[Rho]\"</th>\n",
       "      <th>\"rms[RhoU]\"</th>\n",
       "      <th>\"rms[RhoV]\"</th>\n",
       "      <th>\"rms[RhoE]\"</th>\n",
       "      <th>\"CD\"</th>\n",
       "      <th>\"CL\"</th>\n",
       "    </tr>\n",
       "  </thead>\n",
       "  <tbody>\n",
       "    <tr>\n",
       "      <th>0</th>\n",
       "      <td>0</td>\n",
       "      <td>0.356866</td>\n",
       "      <td>-0.688932</td>\n",
       "      <td>1.746898</td>\n",
       "      <td>1.770957</td>\n",
       "      <td>4.801816</td>\n",
       "      <td>0.585454</td>\n",
       "      <td>0.020889</td>\n",
       "    </tr>\n",
       "    <tr>\n",
       "      <th>1</th>\n",
       "      <td>1</td>\n",
       "      <td>0.357180</td>\n",
       "      <td>-1.146338</td>\n",
       "      <td>1.521108</td>\n",
       "      <td>1.305151</td>\n",
       "      <td>4.344181</td>\n",
       "      <td>0.416534</td>\n",
       "      <td>-0.289319</td>\n",
       "    </tr>\n",
       "    <tr>\n",
       "      <th>2</th>\n",
       "      <td>2</td>\n",
       "      <td>0.356571</td>\n",
       "      <td>-1.270153</td>\n",
       "      <td>1.476147</td>\n",
       "      <td>1.122469</td>\n",
       "      <td>4.226108</td>\n",
       "      <td>0.339329</td>\n",
       "      <td>-0.439986</td>\n",
       "    </tr>\n",
       "    <tr>\n",
       "      <th>3</th>\n",
       "      <td>3</td>\n",
       "      <td>0.353314</td>\n",
       "      <td>-1.338779</td>\n",
       "      <td>1.429934</td>\n",
       "      <td>1.014385</td>\n",
       "      <td>4.160860</td>\n",
       "      <td>0.319459</td>\n",
       "      <td>-0.285619</td>\n",
       "    </tr>\n",
       "    <tr>\n",
       "      <th>4</th>\n",
       "      <td>4</td>\n",
       "      <td>0.350619</td>\n",
       "      <td>-1.391749</td>\n",
       "      <td>1.389771</td>\n",
       "      <td>0.926601</td>\n",
       "      <td>4.108020</td>\n",
       "      <td>0.301358</td>\n",
       "      <td>-0.231003</td>\n",
       "    </tr>\n",
       "    <tr>\n",
       "      <th>5</th>\n",
       "      <td>5</td>\n",
       "      <td>0.349526</td>\n",
       "      <td>-1.449452</td>\n",
       "      <td>1.351394</td>\n",
       "      <td>0.843695</td>\n",
       "      <td>4.051589</td>\n",
       "      <td>0.292934</td>\n",
       "      <td>-0.150418</td>\n",
       "    </tr>\n",
       "    <tr>\n",
       "      <th>6</th>\n",
       "      <td>6</td>\n",
       "      <td>0.348497</td>\n",
       "      <td>-1.529791</td>\n",
       "      <td>1.313969</td>\n",
       "      <td>0.746620</td>\n",
       "      <td>3.972000</td>\n",
       "      <td>0.286721</td>\n",
       "      <td>-0.085998</td>\n",
       "    </tr>\n",
       "    <tr>\n",
       "      <th>7</th>\n",
       "      <td>7</td>\n",
       "      <td>0.348493</td>\n",
       "      <td>-1.597750</td>\n",
       "      <td>1.276613</td>\n",
       "      <td>0.652360</td>\n",
       "      <td>3.903240</td>\n",
       "      <td>0.281384</td>\n",
       "      <td>-0.044377</td>\n",
       "    </tr>\n",
       "    <tr>\n",
       "      <th>8</th>\n",
       "      <td>8</td>\n",
       "      <td>0.347840</td>\n",
       "      <td>-1.644485</td>\n",
       "      <td>1.239461</td>\n",
       "      <td>0.593075</td>\n",
       "      <td>3.857131</td>\n",
       "      <td>0.277864</td>\n",
       "      <td>-0.009103</td>\n",
       "    </tr>\n",
       "    <tr>\n",
       "      <th>9</th>\n",
       "      <td>9</td>\n",
       "      <td>0.347204</td>\n",
       "      <td>-1.695749</td>\n",
       "      <td>1.202873</td>\n",
       "      <td>0.530411</td>\n",
       "      <td>3.807717</td>\n",
       "      <td>0.275333</td>\n",
       "      <td>0.029444</td>\n",
       "    </tr>\n",
       "    <tr>\n",
       "      <th>10</th>\n",
       "      <td>10</td>\n",
       "      <td>0.346911</td>\n",
       "      <td>-1.745366</td>\n",
       "      <td>1.166568</td>\n",
       "      <td>0.472920</td>\n",
       "      <td>3.759488</td>\n",
       "      <td>0.271562</td>\n",
       "      <td>0.061334</td>\n",
       "    </tr>\n",
       "    <tr>\n",
       "      <th>11</th>\n",
       "      <td>11</td>\n",
       "      <td>0.347137</td>\n",
       "      <td>-1.783988</td>\n",
       "      <td>1.130033</td>\n",
       "      <td>0.442077</td>\n",
       "      <td>3.721294</td>\n",
       "      <td>0.266694</td>\n",
       "      <td>0.078421</td>\n",
       "    </tr>\n",
       "    <tr>\n",
       "      <th>12</th>\n",
       "      <td>12</td>\n",
       "      <td>0.347693</td>\n",
       "      <td>-1.805777</td>\n",
       "      <td>1.093499</td>\n",
       "      <td>0.430770</td>\n",
       "      <td>3.700244</td>\n",
       "      <td>0.261657</td>\n",
       "      <td>0.081847</td>\n",
       "    </tr>\n",
       "    <tr>\n",
       "      <th>13</th>\n",
       "      <td>13</td>\n",
       "      <td>0.348047</td>\n",
       "      <td>-1.808657</td>\n",
       "      <td>1.056000</td>\n",
       "      <td>0.428227</td>\n",
       "      <td>3.698990</td>\n",
       "      <td>0.257594</td>\n",
       "      <td>0.083790</td>\n",
       "    </tr>\n",
       "    <tr>\n",
       "      <th>14</th>\n",
       "      <td>14</td>\n",
       "      <td>0.347834</td>\n",
       "      <td>-1.809762</td>\n",
       "      <td>1.017222</td>\n",
       "      <td>0.420529</td>\n",
       "      <td>3.699628</td>\n",
       "      <td>0.255487</td>\n",
       "      <td>0.095815</td>\n",
       "    </tr>\n",
       "    <tr>\n",
       "      <th>15</th>\n",
       "      <td>15</td>\n",
       "      <td>0.347801</td>\n",
       "      <td>-1.827684</td>\n",
       "      <td>0.977407</td>\n",
       "      <td>0.394687</td>\n",
       "      <td>3.683278</td>\n",
       "      <td>0.254500</td>\n",
       "      <td>0.114065</td>\n",
       "    </tr>\n",
       "    <tr>\n",
       "      <th>16</th>\n",
       "      <td>16</td>\n",
       "      <td>0.347624</td>\n",
       "      <td>-1.861760</td>\n",
       "      <td>0.939168</td>\n",
       "      <td>0.355493</td>\n",
       "      <td>3.650537</td>\n",
       "      <td>0.253315</td>\n",
       "      <td>0.122885</td>\n",
       "    </tr>\n",
       "    <tr>\n",
       "      <th>17</th>\n",
       "      <td>17</td>\n",
       "      <td>0.347643</td>\n",
       "      <td>-1.903287</td>\n",
       "      <td>0.903357</td>\n",
       "      <td>0.314153</td>\n",
       "      <td>3.610282</td>\n",
       "      <td>0.251985</td>\n",
       "      <td>0.120578</td>\n",
       "    </tr>\n",
       "    <tr>\n",
       "      <th>18</th>\n",
       "      <td>18</td>\n",
       "      <td>0.348264</td>\n",
       "      <td>-1.943150</td>\n",
       "      <td>0.869713</td>\n",
       "      <td>0.278059</td>\n",
       "      <td>3.570823</td>\n",
       "      <td>0.251348</td>\n",
       "      <td>0.117402</td>\n",
       "    </tr>\n",
       "    <tr>\n",
       "      <th>19</th>\n",
       "      <td>19</td>\n",
       "      <td>0.348567</td>\n",
       "      <td>-1.980514</td>\n",
       "      <td>0.838874</td>\n",
       "      <td>0.247945</td>\n",
       "      <td>3.532984</td>\n",
       "      <td>0.251441</td>\n",
       "      <td>0.118867</td>\n",
       "    </tr>\n",
       "    <tr>\n",
       "      <th>20</th>\n",
       "      <td>20</td>\n",
       "      <td>0.348919</td>\n",
       "      <td>-2.019717</td>\n",
       "      <td>0.810741</td>\n",
       "      <td>0.215936</td>\n",
       "      <td>3.493125</td>\n",
       "      <td>0.251972</td>\n",
       "      <td>0.121699</td>\n",
       "    </tr>\n",
       "    <tr>\n",
       "      <th>21</th>\n",
       "      <td>21</td>\n",
       "      <td>0.350205</td>\n",
       "      <td>-2.063702</td>\n",
       "      <td>0.784238</td>\n",
       "      <td>0.179845</td>\n",
       "      <td>3.448604</td>\n",
       "      <td>0.252867</td>\n",
       "      <td>0.123138</td>\n",
       "    </tr>\n",
       "    <tr>\n",
       "      <th>22</th>\n",
       "      <td>22</td>\n",
       "      <td>0.350633</td>\n",
       "      <td>-2.106834</td>\n",
       "      <td>0.758639</td>\n",
       "      <td>0.143376</td>\n",
       "      <td>3.404694</td>\n",
       "      <td>0.254063</td>\n",
       "      <td>0.124149</td>\n",
       "    </tr>\n",
       "    <tr>\n",
       "      <th>23</th>\n",
       "      <td>23</td>\n",
       "      <td>0.350427</td>\n",
       "      <td>-2.145162</td>\n",
       "      <td>0.734082</td>\n",
       "      <td>0.109972</td>\n",
       "      <td>3.365438</td>\n",
       "      <td>0.255493</td>\n",
       "      <td>0.126035</td>\n",
       "    </tr>\n",
       "    <tr>\n",
       "      <th>24</th>\n",
       "      <td>24</td>\n",
       "      <td>0.350249</td>\n",
       "      <td>-2.178585</td>\n",
       "      <td>0.710415</td>\n",
       "      <td>0.078953</td>\n",
       "      <td>3.331327</td>\n",
       "      <td>0.256930</td>\n",
       "      <td>0.127447</td>\n",
       "    </tr>\n",
       "    <tr>\n",
       "      <th>25</th>\n",
       "      <td>25</td>\n",
       "      <td>0.349984</td>\n",
       "      <td>-2.209213</td>\n",
       "      <td>0.687149</td>\n",
       "      <td>0.047950</td>\n",
       "      <td>3.300502</td>\n",
       "      <td>0.258325</td>\n",
       "      <td>0.127681</td>\n",
       "    </tr>\n",
       "    <tr>\n",
       "      <th>26</th>\n",
       "      <td>26</td>\n",
       "      <td>0.349808</td>\n",
       "      <td>-2.238117</td>\n",
       "      <td>0.664331</td>\n",
       "      <td>0.015400</td>\n",
       "      <td>3.271899</td>\n",
       "      <td>0.259725</td>\n",
       "      <td>0.127736</td>\n",
       "    </tr>\n",
       "    <tr>\n",
       "      <th>27</th>\n",
       "      <td>27</td>\n",
       "      <td>0.349607</td>\n",
       "      <td>-2.266016</td>\n",
       "      <td>0.641827</td>\n",
       "      <td>-0.018575</td>\n",
       "      <td>3.244699</td>\n",
       "      <td>0.261098</td>\n",
       "      <td>0.128198</td>\n",
       "    </tr>\n",
       "    <tr>\n",
       "      <th>28</th>\n",
       "      <td>28</td>\n",
       "      <td>0.349678</td>\n",
       "      <td>-2.294154</td>\n",
       "      <td>0.619509</td>\n",
       "      <td>-0.053678</td>\n",
       "      <td>3.217411</td>\n",
       "      <td>0.262183</td>\n",
       "      <td>0.128009</td>\n",
       "    </tr>\n",
       "    <tr>\n",
       "      <th>29</th>\n",
       "      <td>29</td>\n",
       "      <td>0.349721</td>\n",
       "      <td>-2.327873</td>\n",
       "      <td>0.596010</td>\n",
       "      <td>-0.092338</td>\n",
       "      <td>3.184656</td>\n",
       "      <td>0.263189</td>\n",
       "      <td>0.127534</td>\n",
       "    </tr>\n",
       "    <tr>\n",
       "      <th>30</th>\n",
       "      <td>30</td>\n",
       "      <td>0.349683</td>\n",
       "      <td>-2.360996</td>\n",
       "      <td>0.571932</td>\n",
       "      <td>-0.129716</td>\n",
       "      <td>3.151910</td>\n",
       "      <td>0.264207</td>\n",
       "      <td>0.127382</td>\n",
       "    </tr>\n",
       "    <tr>\n",
       "      <th>31</th>\n",
       "      <td>31</td>\n",
       "      <td>0.349736</td>\n",
       "      <td>-2.388409</td>\n",
       "      <td>0.547043</td>\n",
       "      <td>-0.163953</td>\n",
       "      <td>3.124689</td>\n",
       "      <td>0.265286</td>\n",
       "      <td>0.128177</td>\n",
       "    </tr>\n",
       "    <tr>\n",
       "      <th>32</th>\n",
       "      <td>32</td>\n",
       "      <td>0.349894</td>\n",
       "      <td>-2.408264</td>\n",
       "      <td>0.521218</td>\n",
       "      <td>-0.193924</td>\n",
       "      <td>3.105136</td>\n",
       "      <td>0.266336</td>\n",
       "      <td>0.129404</td>\n",
       "    </tr>\n",
       "    <tr>\n",
       "      <th>33</th>\n",
       "      <td>33</td>\n",
       "      <td>0.350146</td>\n",
       "      <td>-2.423575</td>\n",
       "      <td>0.494140</td>\n",
       "      <td>-0.222830</td>\n",
       "      <td>3.090378</td>\n",
       "      <td>0.267305</td>\n",
       "      <td>0.130313</td>\n",
       "    </tr>\n",
       "    <tr>\n",
       "      <th>34</th>\n",
       "      <td>34</td>\n",
       "      <td>0.350071</td>\n",
       "      <td>-2.437887</td>\n",
       "      <td>0.465691</td>\n",
       "      <td>-0.253325</td>\n",
       "      <td>3.076856</td>\n",
       "      <td>0.268226</td>\n",
       "      <td>0.130959</td>\n",
       "    </tr>\n",
       "    <tr>\n",
       "      <th>35</th>\n",
       "      <td>35</td>\n",
       "      <td>0.350148</td>\n",
       "      <td>-2.452253</td>\n",
       "      <td>0.435982</td>\n",
       "      <td>-0.284709</td>\n",
       "      <td>3.063450</td>\n",
       "      <td>0.269162</td>\n",
       "      <td>0.132072</td>\n",
       "    </tr>\n",
       "    <tr>\n",
       "      <th>36</th>\n",
       "      <td>36</td>\n",
       "      <td>0.350120</td>\n",
       "      <td>-2.468314</td>\n",
       "      <td>0.405099</td>\n",
       "      <td>-0.316619</td>\n",
       "      <td>3.048582</td>\n",
       "      <td>0.270097</td>\n",
       "      <td>0.133945</td>\n",
       "    </tr>\n",
       "    <tr>\n",
       "      <th>37</th>\n",
       "      <td>37</td>\n",
       "      <td>0.349987</td>\n",
       "      <td>-2.489309</td>\n",
       "      <td>0.372793</td>\n",
       "      <td>-0.349160</td>\n",
       "      <td>3.028938</td>\n",
       "      <td>0.271019</td>\n",
       "      <td>0.136546</td>\n",
       "    </tr>\n",
       "    <tr>\n",
       "      <th>38</th>\n",
       "      <td>38</td>\n",
       "      <td>0.349836</td>\n",
       "      <td>-2.514040</td>\n",
       "      <td>0.338815</td>\n",
       "      <td>-0.381755</td>\n",
       "      <td>3.005441</td>\n",
       "      <td>0.271882</td>\n",
       "      <td>0.139360</td>\n",
       "    </tr>\n",
       "    <tr>\n",
       "      <th>39</th>\n",
       "      <td>39</td>\n",
       "      <td>0.349742</td>\n",
       "      <td>-2.541357</td>\n",
       "      <td>0.303424</td>\n",
       "      <td>-0.415053</td>\n",
       "      <td>2.978875</td>\n",
       "      <td>0.272746</td>\n",
       "      <td>0.142733</td>\n",
       "    </tr>\n",
       "    <tr>\n",
       "      <th>40</th>\n",
       "      <td>40</td>\n",
       "      <td>0.349924</td>\n",
       "      <td>-2.569716</td>\n",
       "      <td>0.266722</td>\n",
       "      <td>-0.447331</td>\n",
       "      <td>2.951141</td>\n",
       "      <td>0.273582</td>\n",
       "      <td>0.146524</td>\n",
       "    </tr>\n",
       "    <tr>\n",
       "      <th>41</th>\n",
       "      <td>41</td>\n",
       "      <td>0.349801</td>\n",
       "      <td>-2.599048</td>\n",
       "      <td>0.228955</td>\n",
       "      <td>-0.481674</td>\n",
       "      <td>2.922334</td>\n",
       "      <td>0.274315</td>\n",
       "      <td>0.150347</td>\n",
       "    </tr>\n",
       "    <tr>\n",
       "      <th>42</th>\n",
       "      <td>42</td>\n",
       "      <td>0.349737</td>\n",
       "      <td>-2.632846</td>\n",
       "      <td>0.190561</td>\n",
       "      <td>-0.521605</td>\n",
       "      <td>2.889109</td>\n",
       "      <td>0.274925</td>\n",
       "      <td>0.153888</td>\n",
       "    </tr>\n",
       "    <tr>\n",
       "      <th>43</th>\n",
       "      <td>43</td>\n",
       "      <td>0.349671</td>\n",
       "      <td>-2.674558</td>\n",
       "      <td>0.151809</td>\n",
       "      <td>-0.565403</td>\n",
       "      <td>2.848106</td>\n",
       "      <td>0.275414</td>\n",
       "      <td>0.157034</td>\n",
       "    </tr>\n",
       "    <tr>\n",
       "      <th>44</th>\n",
       "      <td>44</td>\n",
       "      <td>0.349553</td>\n",
       "      <td>-2.726651</td>\n",
       "      <td>0.112590</td>\n",
       "      <td>-0.608622</td>\n",
       "      <td>2.796784</td>\n",
       "      <td>0.275815</td>\n",
       "      <td>0.160051</td>\n",
       "    </tr>\n",
       "    <tr>\n",
       "      <th>45</th>\n",
       "      <td>45</td>\n",
       "      <td>0.349528</td>\n",
       "      <td>-2.786755</td>\n",
       "      <td>0.072896</td>\n",
       "      <td>-0.646867</td>\n",
       "      <td>2.737102</td>\n",
       "      <td>0.276143</td>\n",
       "      <td>0.163154</td>\n",
       "    </tr>\n",
       "    <tr>\n",
       "      <th>46</th>\n",
       "      <td>46</td>\n",
       "      <td>0.349579</td>\n",
       "      <td>-2.847752</td>\n",
       "      <td>0.033523</td>\n",
       "      <td>-0.676979</td>\n",
       "      <td>2.675615</td>\n",
       "      <td>0.276377</td>\n",
       "      <td>0.166228</td>\n",
       "    </tr>\n",
       "    <tr>\n",
       "      <th>47</th>\n",
       "      <td>47</td>\n",
       "      <td>0.349491</td>\n",
       "      <td>-2.905313</td>\n",
       "      <td>-0.004438</td>\n",
       "      <td>-0.700548</td>\n",
       "      <td>2.616644</td>\n",
       "      <td>0.276500</td>\n",
       "      <td>0.168783</td>\n",
       "    </tr>\n",
       "    <tr>\n",
       "      <th>48</th>\n",
       "      <td>48</td>\n",
       "      <td>0.349397</td>\n",
       "      <td>-2.958872</td>\n",
       "      <td>-0.040110</td>\n",
       "      <td>-0.722815</td>\n",
       "      <td>2.561241</td>\n",
       "      <td>0.276516</td>\n",
       "      <td>0.170351</td>\n",
       "    </tr>\n",
       "    <tr>\n",
       "      <th>49</th>\n",
       "      <td>49</td>\n",
       "      <td>0.349306</td>\n",
       "      <td>-3.009423</td>\n",
       "      <td>-0.073510</td>\n",
       "      <td>-0.745058</td>\n",
       "      <td>2.508871</td>\n",
       "      <td>0.276491</td>\n",
       "      <td>0.171235</td>\n",
       "    </tr>\n",
       "  </tbody>\n",
       "</table>\n",
       "</div>"
      ],
      "text/plain": [
       "    Inner_Iter      \"Time(sec)\"         \"rms[Rho]\"          \"rms[RhoU]\"     \\\n",
       "0            0            0.356866           -0.688932            1.746898   \n",
       "1            1            0.357180           -1.146338            1.521108   \n",
       "2            2            0.356571           -1.270153            1.476147   \n",
       "3            3            0.353314           -1.338779            1.429934   \n",
       "4            4            0.350619           -1.391749            1.389771   \n",
       "5            5            0.349526           -1.449452            1.351394   \n",
       "6            6            0.348497           -1.529791            1.313969   \n",
       "7            7            0.348493           -1.597750            1.276613   \n",
       "8            8            0.347840           -1.644485            1.239461   \n",
       "9            9            0.347204           -1.695749            1.202873   \n",
       "10          10            0.346911           -1.745366            1.166568   \n",
       "11          11            0.347137           -1.783988            1.130033   \n",
       "12          12            0.347693           -1.805777            1.093499   \n",
       "13          13            0.348047           -1.808657            1.056000   \n",
       "14          14            0.347834           -1.809762            1.017222   \n",
       "15          15            0.347801           -1.827684            0.977407   \n",
       "16          16            0.347624           -1.861760            0.939168   \n",
       "17          17            0.347643           -1.903287            0.903357   \n",
       "18          18            0.348264           -1.943150            0.869713   \n",
       "19          19            0.348567           -1.980514            0.838874   \n",
       "20          20            0.348919           -2.019717            0.810741   \n",
       "21          21            0.350205           -2.063702            0.784238   \n",
       "22          22            0.350633           -2.106834            0.758639   \n",
       "23          23            0.350427           -2.145162            0.734082   \n",
       "24          24            0.350249           -2.178585            0.710415   \n",
       "25          25            0.349984           -2.209213            0.687149   \n",
       "26          26            0.349808           -2.238117            0.664331   \n",
       "27          27            0.349607           -2.266016            0.641827   \n",
       "28          28            0.349678           -2.294154            0.619509   \n",
       "29          29            0.349721           -2.327873            0.596010   \n",
       "30          30            0.349683           -2.360996            0.571932   \n",
       "31          31            0.349736           -2.388409            0.547043   \n",
       "32          32            0.349894           -2.408264            0.521218   \n",
       "33          33            0.350146           -2.423575            0.494140   \n",
       "34          34            0.350071           -2.437887            0.465691   \n",
       "35          35            0.350148           -2.452253            0.435982   \n",
       "36          36            0.350120           -2.468314            0.405099   \n",
       "37          37            0.349987           -2.489309            0.372793   \n",
       "38          38            0.349836           -2.514040            0.338815   \n",
       "39          39            0.349742           -2.541357            0.303424   \n",
       "40          40            0.349924           -2.569716            0.266722   \n",
       "41          41            0.349801           -2.599048            0.228955   \n",
       "42          42            0.349737           -2.632846            0.190561   \n",
       "43          43            0.349671           -2.674558            0.151809   \n",
       "44          44            0.349553           -2.726651            0.112590   \n",
       "45          45            0.349528           -2.786755            0.072896   \n",
       "46          46            0.349579           -2.847752            0.033523   \n",
       "47          47            0.349491           -2.905313           -0.004438   \n",
       "48          48            0.349397           -2.958872           -0.040110   \n",
       "49          49            0.349306           -3.009423           -0.073510   \n",
       "\n",
       "        \"rms[RhoV]\"         \"rms[RhoE]\"            \"CD\"         \\\n",
       "0             1.770957            4.801816            0.585454   \n",
       "1             1.305151            4.344181            0.416534   \n",
       "2             1.122469            4.226108            0.339329   \n",
       "3             1.014385            4.160860            0.319459   \n",
       "4             0.926601            4.108020            0.301358   \n",
       "5             0.843695            4.051589            0.292934   \n",
       "6             0.746620            3.972000            0.286721   \n",
       "7             0.652360            3.903240            0.281384   \n",
       "8             0.593075            3.857131            0.277864   \n",
       "9             0.530411            3.807717            0.275333   \n",
       "10            0.472920            3.759488            0.271562   \n",
       "11            0.442077            3.721294            0.266694   \n",
       "12            0.430770            3.700244            0.261657   \n",
       "13            0.428227            3.698990            0.257594   \n",
       "14            0.420529            3.699628            0.255487   \n",
       "15            0.394687            3.683278            0.254500   \n",
       "16            0.355493            3.650537            0.253315   \n",
       "17            0.314153            3.610282            0.251985   \n",
       "18            0.278059            3.570823            0.251348   \n",
       "19            0.247945            3.532984            0.251441   \n",
       "20            0.215936            3.493125            0.251972   \n",
       "21            0.179845            3.448604            0.252867   \n",
       "22            0.143376            3.404694            0.254063   \n",
       "23            0.109972            3.365438            0.255493   \n",
       "24            0.078953            3.331327            0.256930   \n",
       "25            0.047950            3.300502            0.258325   \n",
       "26            0.015400            3.271899            0.259725   \n",
       "27           -0.018575            3.244699            0.261098   \n",
       "28           -0.053678            3.217411            0.262183   \n",
       "29           -0.092338            3.184656            0.263189   \n",
       "30           -0.129716            3.151910            0.264207   \n",
       "31           -0.163953            3.124689            0.265286   \n",
       "32           -0.193924            3.105136            0.266336   \n",
       "33           -0.222830            3.090378            0.267305   \n",
       "34           -0.253325            3.076856            0.268226   \n",
       "35           -0.284709            3.063450            0.269162   \n",
       "36           -0.316619            3.048582            0.270097   \n",
       "37           -0.349160            3.028938            0.271019   \n",
       "38           -0.381755            3.005441            0.271882   \n",
       "39           -0.415053            2.978875            0.272746   \n",
       "40           -0.447331            2.951141            0.273582   \n",
       "41           -0.481674            2.922334            0.274315   \n",
       "42           -0.521605            2.889109            0.274925   \n",
       "43           -0.565403            2.848106            0.275414   \n",
       "44           -0.608622            2.796784            0.275815   \n",
       "45           -0.646867            2.737102            0.276143   \n",
       "46           -0.676979            2.675615            0.276377   \n",
       "47           -0.700548            2.616644            0.276500   \n",
       "48           -0.722815            2.561241            0.276516   \n",
       "49           -0.745058            2.508871            0.276491   \n",
       "\n",
       "           \"CL\"         \n",
       "0             0.020889  \n",
       "1            -0.289319  \n",
       "2            -0.439986  \n",
       "3            -0.285619  \n",
       "4            -0.231003  \n",
       "5            -0.150418  \n",
       "6            -0.085998  \n",
       "7            -0.044377  \n",
       "8            -0.009103  \n",
       "9             0.029444  \n",
       "10            0.061334  \n",
       "11            0.078421  \n",
       "12            0.081847  \n",
       "13            0.083790  \n",
       "14            0.095815  \n",
       "15            0.114065  \n",
       "16            0.122885  \n",
       "17            0.120578  \n",
       "18            0.117402  \n",
       "19            0.118867  \n",
       "20            0.121699  \n",
       "21            0.123138  \n",
       "22            0.124149  \n",
       "23            0.126035  \n",
       "24            0.127447  \n",
       "25            0.127681  \n",
       "26            0.127736  \n",
       "27            0.128198  \n",
       "28            0.128009  \n",
       "29            0.127534  \n",
       "30            0.127382  \n",
       "31            0.128177  \n",
       "32            0.129404  \n",
       "33            0.130313  \n",
       "34            0.130959  \n",
       "35            0.132072  \n",
       "36            0.133945  \n",
       "37            0.136546  \n",
       "38            0.139360  \n",
       "39            0.142733  \n",
       "40            0.146524  \n",
       "41            0.150347  \n",
       "42            0.153888  \n",
       "43            0.157034  \n",
       "44            0.160051  \n",
       "45            0.163154  \n",
       "46            0.166228  \n",
       "47            0.168783  \n",
       "48            0.170351  \n",
       "49            0.171235  "
      ]
     },
     "metadata": {},
     "output_type": "display_data"
    },
    {
     "data": {
      "image/png": "[encoded data removed]",
      "text/plain": [
       "<Figure size 800x400 with 2 Axes>"
      ]
     },
     "metadata": {},
     "output_type": "display_data"
    }
   ],
   "source": [
    "from paraflow import get_flasher, run_simulation, SimulationParams, get_frames, display_frame, SimulationResult\n",
    "from paraflow.simulation.su2 import Su2SimulationConfig\n",
    "import numpy as np\n",
    "\n",
    "flasher = get_flasher(\"air\", \"gas\")\n",
    "inlet_total_state = flasher.flash(P=101325.0, T=273.15, mach_number=0.8)\n",
    "\n",
    "\n",
    "use_cache = False\n",
    "if not use_cache:\n",
    "    sim_results = run_simulation(\n",
    "        passage,\n",
    "        params=SimulationParams(\n",
    "            inlet_total_state=inlet_total_state, \n",
    "        ),\n",
    "        working_directory=\"./simulation_out\", \n",
    "        id=\"1\",\n",
    "        auto_delete=False,\n",
    "        # cfg=Su2SimulationConfig(\n",
    "        #     custom_executable_path=\"~/simulators/su2/SU2-7.5.2-macos64\"\n",
    "        # )\n",
    "    )\n",
    "    sim_results.to_file(\"sim_results.pkl\")\n",
    "else:\n",
    "   sim_results = SimulationResult.from_file(\"sim_results.pkl\")\n",
    "\n",
    "frames = get_frames(\n",
    "    sim_results, \n",
    "    property_names=[\"Pressure\"], \n",
    "    num_pnts=1000, \n",
    "    size=3,\n",
    "    offset=np.array([0.5,0])\n",
    ")\n",
    "display(sim_results.eval_values)\n",
    "display_frame(frames, \"Pressure\")\n"
   ]
  },
  {
   "cell_type": "code",
   "execution_count": null,
   "metadata": {},
   "outputs": [],
   "source": []
  }
 ],
 "metadata": {
  "kernelspec": {
   "display_name": "Python 3.10.12 64-bit",
   "language": "python",
   "name": "python3"
  },
  "language_info": {
   "codemirror_mode": {
    "name": "ipython",
    "version": 3
   },
   "file_extension": ".py",
   "mimetype": "text/x-python",
   "name": "python",
   "nbconvert_exporter": "python",
   "pygments_lexer": "ipython3",
   "version": "3.11.6"
  },
  "orig_nbformat": 4,
  "vscode": {
   "interpreter": {
    "hash": "949777d72b0d2535278d3dc13498b2535136f6dfe0678499012e853ee9abcab1"
   }
  }
 },
 "nbformat": 4,
 "nbformat_minor": 2
}
